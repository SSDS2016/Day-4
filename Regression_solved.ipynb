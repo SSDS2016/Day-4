{
 "cells": [
  {
   "cell_type": "markdown",
   "metadata": {},
   "source": [
    "Data Science Summer School - Split '16\n",
    "======================================\n",
    "# Linear and Logistic Regression\n",
    "\n",
    "Stjepan Begušić\n",
    "\n",
    "version 0.1.1\n",
    "\n",
    "`kernel: Python 2.7`"
   ]
  },
  {
   "cell_type": "markdown",
   "metadata": {},
   "source": [
    "## Introduction\n",
    "\n",
    "Though it may seem somewhat dull compared to some of the more modern statistical learning approaches seen within the scope of this summer school, linear and logistic regression are still extremely useful and widely used as a statistical learning method. Consequently, a profound understanding of linear methods is an essential weapon in the arsenal of any modern data professional. In this notebook we will address the practical details and implementaion specifics concerning linear classification and regression methods.\n",
    "\n",
    "Our analysis will rely on implementations of linear methods within the `scikit-learn` package, and will be applied to a dataset containing peer-to-peer lending data on borrowers and investors. Official scikit-learn documentation provides a useful user guide on linear models [[1]](#scikit-linear). The statsmodels package will also be considered for statistical computations and significance testing [[2]](#statsmodels). Instructions on how to install this module (in case it did not come with your Anaconda distribution) can be found here: https://conda.anaconda.org/statsmodels\n",
    "\n",
    "For additional reading, a very transparent and straightforward representation of these topics is given in \"An Introduction to Statistical Learning\" [[3]](#islr), including applications in R. The examples demonstrated in this book implemented in Python can be found in a notebook by J. Warmenhoven [[5]](#islr-python). A more comprehensive coverage can be found in \"Elements of Statistical Learning\" [[4]](#esl). \n"
   ]
  },
  {
   "cell_type": "code",
   "execution_count": 3,
   "metadata": {
    "collapsed": false
   },
   "outputs": [
    {
     "name": "stdout",
     "output_type": "stream",
     "text": [
      "Populating the interactive namespace from numpy and matplotlib\n"
     ]
    }
   ],
   "source": [
    "%pylab inline\n",
    "import pandas as pd\n",
    "import numpy as np\n",
    "import matplotlib.pyplot as plt"
   ]
  },
  {
   "cell_type": "markdown",
   "metadata": {},
   "source": [
    "## Data\n",
    "\n",
    "We will use a dataset on peer-to-peer lending, given in `loansData.csv` within your repository,  also available at: https://spark-public.s3.amazonaws.com/dataanalysis/loansData.csv \n",
    "\n",
    "Let us read the data into a pandas DataFrame and inspect the variables and the contents of the dataset. For this purpose, let's call `.info()` on our pandas DataFrame:"
   ]
  },
  {
   "cell_type": "code",
   "execution_count": 13,
   "metadata": {
    "collapsed": false
   },
   "outputs": [
    {
     "name": "stdout",
     "output_type": "stream",
     "text": [
      "<class 'pandas.core.frame.DataFrame'>\n",
      "Int64Index: 2500 entries, 81174 to 3116\n",
      "Data columns (total 14 columns):\n",
      "Amount.Requested                  2500 non-null int64\n",
      "Amount.Funded.By.Investors        2500 non-null float64\n",
      "Interest.Rate                     2500 non-null object\n",
      "Loan.Length                       2500 non-null object\n",
      "Loan.Purpose                      2500 non-null object\n",
      "Debt.To.Income.Ratio              2500 non-null object\n",
      "State                             2500 non-null object\n",
      "Home.Ownership                    2500 non-null object\n",
      "Monthly.Income                    2499 non-null float64\n",
      "FICO.Range                        2500 non-null object\n",
      "Open.CREDIT.Lines                 2498 non-null float64\n",
      "Revolving.CREDIT.Balance          2498 non-null float64\n",
      "Inquiries.in.the.Last.6.Months    2498 non-null float64\n",
      "Employment.Length                 2500 non-null object\n",
      "dtypes: float64(5), int64(1), object(8)\n",
      "memory usage: 293.0+ KB\n"
     ]
    }
   ],
   "source": [
    "# use the pd.read_csv() method to parse and read the csv data into a pandas DataFrame\n",
    "# please make sure to name your DataFrame 'loansData'\n",
    "loansData = pd.read_csv('loansData.csv')\n",
    "\n",
    "# use the .info() or .describe() methods to inspec the data columns\n",
    "loansData.info()"
   ]
  },
  {
   "cell_type": "code",
   "execution_count": 22,
   "metadata": {
    "collapsed": false
   },
   "outputs": [
    {
     "data": {
      "text/html": [
       "<div>\n",
       "<table border=\"1\" class=\"dataframe\">\n",
       "  <thead>\n",
       "    <tr style=\"text-align: right;\">\n",
       "      <th></th>\n",
       "      <th>Amount.Requested</th>\n",
       "      <th>Amount.Funded.By.Investors</th>\n",
       "      <th>Interest.Rate</th>\n",
       "      <th>Loan.Length</th>\n",
       "      <th>Loan.Purpose</th>\n",
       "      <th>Debt.To.Income.Ratio</th>\n",
       "      <th>State</th>\n",
       "      <th>Home.Ownership</th>\n",
       "      <th>Monthly.Income</th>\n",
       "      <th>FICO.Range</th>\n",
       "      <th>Open.CREDIT.Lines</th>\n",
       "      <th>Revolving.CREDIT.Balance</th>\n",
       "      <th>Inquiries.in.the.Last.6.Months</th>\n",
       "      <th>Employment.Length</th>\n",
       "    </tr>\n",
       "  </thead>\n",
       "  <tbody>\n",
       "    <tr>\n",
       "      <th>81174</th>\n",
       "      <td>20000</td>\n",
       "      <td>20000.0</td>\n",
       "      <td>8.90%</td>\n",
       "      <td>36 months</td>\n",
       "      <td>debt_consolidation</td>\n",
       "      <td>14.90%</td>\n",
       "      <td>SC</td>\n",
       "      <td>MORTGAGE</td>\n",
       "      <td>6541.67</td>\n",
       "      <td>735-739</td>\n",
       "      <td>14.0</td>\n",
       "      <td>14272.0</td>\n",
       "      <td>2.0</td>\n",
       "      <td>&lt; 1 year</td>\n",
       "    </tr>\n",
       "    <tr>\n",
       "      <th>99592</th>\n",
       "      <td>19200</td>\n",
       "      <td>19200.0</td>\n",
       "      <td>12.12%</td>\n",
       "      <td>36 months</td>\n",
       "      <td>debt_consolidation</td>\n",
       "      <td>28.36%</td>\n",
       "      <td>TX</td>\n",
       "      <td>MORTGAGE</td>\n",
       "      <td>4583.33</td>\n",
       "      <td>715-719</td>\n",
       "      <td>12.0</td>\n",
       "      <td>11140.0</td>\n",
       "      <td>1.0</td>\n",
       "      <td>2 years</td>\n",
       "    </tr>\n",
       "    <tr>\n",
       "      <th>80059</th>\n",
       "      <td>35000</td>\n",
       "      <td>35000.0</td>\n",
       "      <td>21.98%</td>\n",
       "      <td>60 months</td>\n",
       "      <td>debt_consolidation</td>\n",
       "      <td>23.81%</td>\n",
       "      <td>CA</td>\n",
       "      <td>MORTGAGE</td>\n",
       "      <td>11500.00</td>\n",
       "      <td>690-694</td>\n",
       "      <td>14.0</td>\n",
       "      <td>21977.0</td>\n",
       "      <td>1.0</td>\n",
       "      <td>2 years</td>\n",
       "    </tr>\n",
       "    <tr>\n",
       "      <th>15825</th>\n",
       "      <td>10000</td>\n",
       "      <td>9975.0</td>\n",
       "      <td>9.99%</td>\n",
       "      <td>36 months</td>\n",
       "      <td>debt_consolidation</td>\n",
       "      <td>14.30%</td>\n",
       "      <td>KS</td>\n",
       "      <td>MORTGAGE</td>\n",
       "      <td>3833.33</td>\n",
       "      <td>695-699</td>\n",
       "      <td>10.0</td>\n",
       "      <td>9346.0</td>\n",
       "      <td>0.0</td>\n",
       "      <td>5 years</td>\n",
       "    </tr>\n",
       "    <tr>\n",
       "      <th>33182</th>\n",
       "      <td>12000</td>\n",
       "      <td>12000.0</td>\n",
       "      <td>11.71%</td>\n",
       "      <td>36 months</td>\n",
       "      <td>credit_card</td>\n",
       "      <td>18.78%</td>\n",
       "      <td>NJ</td>\n",
       "      <td>RENT</td>\n",
       "      <td>3195.00</td>\n",
       "      <td>695-699</td>\n",
       "      <td>11.0</td>\n",
       "      <td>14469.0</td>\n",
       "      <td>0.0</td>\n",
       "      <td>9 years</td>\n",
       "    </tr>\n",
       "    <tr>\n",
       "      <th>62403</th>\n",
       "      <td>6000</td>\n",
       "      <td>6000.0</td>\n",
       "      <td>15.31%</td>\n",
       "      <td>36 months</td>\n",
       "      <td>other</td>\n",
       "      <td>20.05%</td>\n",
       "      <td>CT</td>\n",
       "      <td>OWN</td>\n",
       "      <td>4891.67</td>\n",
       "      <td>670-674</td>\n",
       "      <td>17.0</td>\n",
       "      <td>10391.0</td>\n",
       "      <td>2.0</td>\n",
       "      <td>3 years</td>\n",
       "    </tr>\n",
       "    <tr>\n",
       "      <th>48808</th>\n",
       "      <td>10000</td>\n",
       "      <td>10000.0</td>\n",
       "      <td>7.90%</td>\n",
       "      <td>36 months</td>\n",
       "      <td>debt_consolidation</td>\n",
       "      <td>26.09%</td>\n",
       "      <td>MA</td>\n",
       "      <td>RENT</td>\n",
       "      <td>2916.67</td>\n",
       "      <td>720-724</td>\n",
       "      <td>10.0</td>\n",
       "      <td>15957.0</td>\n",
       "      <td>0.0</td>\n",
       "      <td>10+ years</td>\n",
       "    </tr>\n",
       "    <tr>\n",
       "      <th>22090</th>\n",
       "      <td>33500</td>\n",
       "      <td>33450.0</td>\n",
       "      <td>17.14%</td>\n",
       "      <td>60 months</td>\n",
       "      <td>credit_card</td>\n",
       "      <td>14.70%</td>\n",
       "      <td>LA</td>\n",
       "      <td>MORTGAGE</td>\n",
       "      <td>13863.42</td>\n",
       "      <td>705-709</td>\n",
       "      <td>12.0</td>\n",
       "      <td>27874.0</td>\n",
       "      <td>0.0</td>\n",
       "      <td>10+ years</td>\n",
       "    </tr>\n",
       "    <tr>\n",
       "      <th>76404</th>\n",
       "      <td>14675</td>\n",
       "      <td>14675.0</td>\n",
       "      <td>14.33%</td>\n",
       "      <td>36 months</td>\n",
       "      <td>credit_card</td>\n",
       "      <td>26.92%</td>\n",
       "      <td>CA</td>\n",
       "      <td>RENT</td>\n",
       "      <td>3150.00</td>\n",
       "      <td>685-689</td>\n",
       "      <td>9.0</td>\n",
       "      <td>7246.0</td>\n",
       "      <td>1.0</td>\n",
       "      <td>8 years</td>\n",
       "    </tr>\n",
       "    <tr>\n",
       "      <th>15867</th>\n",
       "      <td>7000</td>\n",
       "      <td>7000.0</td>\n",
       "      <td>6.91%</td>\n",
       "      <td>36 months</td>\n",
       "      <td>credit_card</td>\n",
       "      <td>7.10%</td>\n",
       "      <td>CA</td>\n",
       "      <td>RENT</td>\n",
       "      <td>5000.00</td>\n",
       "      <td>715-719</td>\n",
       "      <td>8.0</td>\n",
       "      <td>7612.0</td>\n",
       "      <td>0.0</td>\n",
       "      <td>3 years</td>\n",
       "    </tr>\n",
       "  </tbody>\n",
       "</table>\n",
       "</div>"
      ],
      "text/plain": [
       "       Amount.Requested  Amount.Funded.By.Investors Interest.Rate Loan.Length  \\\n",
       "81174             20000                     20000.0         8.90%   36 months   \n",
       "99592             19200                     19200.0        12.12%   36 months   \n",
       "80059             35000                     35000.0        21.98%   60 months   \n",
       "15825             10000                      9975.0         9.99%   36 months   \n",
       "33182             12000                     12000.0        11.71%   36 months   \n",
       "62403              6000                      6000.0        15.31%   36 months   \n",
       "48808             10000                     10000.0         7.90%   36 months   \n",
       "22090             33500                     33450.0        17.14%   60 months   \n",
       "76404             14675                     14675.0        14.33%   36 months   \n",
       "15867              7000                      7000.0         6.91%   36 months   \n",
       "\n",
       "             Loan.Purpose Debt.To.Income.Ratio State Home.Ownership  \\\n",
       "81174  debt_consolidation               14.90%    SC       MORTGAGE   \n",
       "99592  debt_consolidation               28.36%    TX       MORTGAGE   \n",
       "80059  debt_consolidation               23.81%    CA       MORTGAGE   \n",
       "15825  debt_consolidation               14.30%    KS       MORTGAGE   \n",
       "33182         credit_card               18.78%    NJ           RENT   \n",
       "62403               other               20.05%    CT            OWN   \n",
       "48808  debt_consolidation               26.09%    MA           RENT   \n",
       "22090         credit_card               14.70%    LA       MORTGAGE   \n",
       "76404         credit_card               26.92%    CA           RENT   \n",
       "15867         credit_card                7.10%    CA           RENT   \n",
       "\n",
       "       Monthly.Income FICO.Range  Open.CREDIT.Lines  Revolving.CREDIT.Balance  \\\n",
       "81174         6541.67    735-739               14.0                   14272.0   \n",
       "99592         4583.33    715-719               12.0                   11140.0   \n",
       "80059        11500.00    690-694               14.0                   21977.0   \n",
       "15825         3833.33    695-699               10.0                    9346.0   \n",
       "33182         3195.00    695-699               11.0                   14469.0   \n",
       "62403         4891.67    670-674               17.0                   10391.0   \n",
       "48808         2916.67    720-724               10.0                   15957.0   \n",
       "22090        13863.42    705-709               12.0                   27874.0   \n",
       "76404         3150.00    685-689                9.0                    7246.0   \n",
       "15867         5000.00    715-719                8.0                    7612.0   \n",
       "\n",
       "       Inquiries.in.the.Last.6.Months Employment.Length  \n",
       "81174                             2.0          < 1 year  \n",
       "99592                             1.0           2 years  \n",
       "80059                             1.0           2 years  \n",
       "15825                             0.0           5 years  \n",
       "33182                             0.0           9 years  \n",
       "62403                             2.0           3 years  \n",
       "48808                             0.0         10+ years  \n",
       "22090                             0.0         10+ years  \n",
       "76404                             1.0           8 years  \n",
       "15867                             0.0           3 years  "
      ]
     },
     "execution_count": 22,
     "metadata": {},
     "output_type": "execute_result"
    }
   ],
   "source": [
    "# explore the contents of the data by using the .head() method\n",
    "loansData.head(10)"
   ]
  },
  {
   "cell_type": "code",
   "execution_count": 24,
   "metadata": {
    "collapsed": false
   },
   "outputs": [
    {
     "name": "stdout",
     "output_type": "stream",
     "text": [
      "MORTGAGE    1148\n",
      "RENT        1146\n",
      "OWN          200\n",
      "OTHER          5\n",
      "NONE           1\n",
      "Name: Home.Ownership, dtype: int64\n"
     ]
    }
   ],
   "source": [
    "# count the occurences of unique values of the Home.Ownership column using the .value_counts() method\n",
    "loansData['Home.Ownership'].value_counts()"
   ]
  },
  {
   "cell_type": "markdown",
   "metadata": {},
   "source": [
    "We can inspect the contents of the dataset and convert some data columns to numeric representation if necessary. While preparing data, look out for these issues:\n",
    "\n",
    "* Check for NaN entries, before and after data preparation\n",
    "\n",
    "* Numeric data can be represented and interpreted as strings (due to appended measurement units, percentage signs, etc.)\n",
    "\n",
    "* Incorrect data (if we have the luxury of knowing something about our variables, we can detect values which our out of range, or incorrect in another way)"
   ]
  },
  {
   "cell_type": "code",
   "execution_count": 14,
   "metadata": {
    "collapsed": false
   },
   "outputs": [
    {
     "data": {
      "text/html": [
       "<div>\n",
       "<table border=\"1\" class=\"dataframe\">\n",
       "  <thead>\n",
       "    <tr style=\"text-align: right;\">\n",
       "      <th></th>\n",
       "      <th>Amount.Requested</th>\n",
       "      <th>Amount.Funded.By.Investors</th>\n",
       "      <th>Interest.Rate</th>\n",
       "      <th>Loan.Length</th>\n",
       "      <th>Loan.Purpose</th>\n",
       "      <th>Debt.To.Income.Ratio</th>\n",
       "      <th>State</th>\n",
       "      <th>Home.Ownership</th>\n",
       "      <th>Monthly.Income</th>\n",
       "      <th>FICO.Range</th>\n",
       "      <th>Open.CREDIT.Lines</th>\n",
       "      <th>Revolving.CREDIT.Balance</th>\n",
       "      <th>Inquiries.in.the.Last.6.Months</th>\n",
       "      <th>Employment.Length</th>\n",
       "      <th>MORTGAGE</th>\n",
       "      <th>OTHER</th>\n",
       "      <th>OWN</th>\n",
       "      <th>RENT</th>\n",
       "      <th>FICO</th>\n",
       "    </tr>\n",
       "  </thead>\n",
       "  <tbody>\n",
       "    <tr>\n",
       "      <th>81174</th>\n",
       "      <td>20000</td>\n",
       "      <td>20000.0</td>\n",
       "      <td>8.90</td>\n",
       "      <td>36.0</td>\n",
       "      <td>debt_consolidation</td>\n",
       "      <td>14.90</td>\n",
       "      <td>SC</td>\n",
       "      <td>MORTGAGE</td>\n",
       "      <td>6541.67</td>\n",
       "      <td>735-739</td>\n",
       "      <td>14.0</td>\n",
       "      <td>14272.0</td>\n",
       "      <td>2.0</td>\n",
       "      <td>&lt; 1 year</td>\n",
       "      <td>1.0</td>\n",
       "      <td>0.0</td>\n",
       "      <td>0.0</td>\n",
       "      <td>0.0</td>\n",
       "      <td>739.0</td>\n",
       "    </tr>\n",
       "    <tr>\n",
       "      <th>99592</th>\n",
       "      <td>19200</td>\n",
       "      <td>19200.0</td>\n",
       "      <td>12.12</td>\n",
       "      <td>36.0</td>\n",
       "      <td>debt_consolidation</td>\n",
       "      <td>28.36</td>\n",
       "      <td>TX</td>\n",
       "      <td>MORTGAGE</td>\n",
       "      <td>4583.33</td>\n",
       "      <td>715-719</td>\n",
       "      <td>12.0</td>\n",
       "      <td>11140.0</td>\n",
       "      <td>1.0</td>\n",
       "      <td>2 years</td>\n",
       "      <td>1.0</td>\n",
       "      <td>0.0</td>\n",
       "      <td>0.0</td>\n",
       "      <td>0.0</td>\n",
       "      <td>719.0</td>\n",
       "    </tr>\n",
       "    <tr>\n",
       "      <th>80059</th>\n",
       "      <td>35000</td>\n",
       "      <td>35000.0</td>\n",
       "      <td>21.98</td>\n",
       "      <td>60.0</td>\n",
       "      <td>debt_consolidation</td>\n",
       "      <td>23.81</td>\n",
       "      <td>CA</td>\n",
       "      <td>MORTGAGE</td>\n",
       "      <td>11500.00</td>\n",
       "      <td>690-694</td>\n",
       "      <td>14.0</td>\n",
       "      <td>21977.0</td>\n",
       "      <td>1.0</td>\n",
       "      <td>2 years</td>\n",
       "      <td>1.0</td>\n",
       "      <td>0.0</td>\n",
       "      <td>0.0</td>\n",
       "      <td>0.0</td>\n",
       "      <td>694.0</td>\n",
       "    </tr>\n",
       "    <tr>\n",
       "      <th>15825</th>\n",
       "      <td>10000</td>\n",
       "      <td>9975.0</td>\n",
       "      <td>9.99</td>\n",
       "      <td>36.0</td>\n",
       "      <td>debt_consolidation</td>\n",
       "      <td>14.30</td>\n",
       "      <td>KS</td>\n",
       "      <td>MORTGAGE</td>\n",
       "      <td>3833.33</td>\n",
       "      <td>695-699</td>\n",
       "      <td>10.0</td>\n",
       "      <td>9346.0</td>\n",
       "      <td>0.0</td>\n",
       "      <td>5 years</td>\n",
       "      <td>1.0</td>\n",
       "      <td>0.0</td>\n",
       "      <td>0.0</td>\n",
       "      <td>0.0</td>\n",
       "      <td>699.0</td>\n",
       "    </tr>\n",
       "    <tr>\n",
       "      <th>33182</th>\n",
       "      <td>12000</td>\n",
       "      <td>12000.0</td>\n",
       "      <td>11.71</td>\n",
       "      <td>36.0</td>\n",
       "      <td>credit_card</td>\n",
       "      <td>18.78</td>\n",
       "      <td>NJ</td>\n",
       "      <td>RENT</td>\n",
       "      <td>3195.00</td>\n",
       "      <td>695-699</td>\n",
       "      <td>11.0</td>\n",
       "      <td>14469.0</td>\n",
       "      <td>0.0</td>\n",
       "      <td>9 years</td>\n",
       "      <td>0.0</td>\n",
       "      <td>0.0</td>\n",
       "      <td>0.0</td>\n",
       "      <td>1.0</td>\n",
       "      <td>699.0</td>\n",
       "    </tr>\n",
       "    <tr>\n",
       "      <th>62403</th>\n",
       "      <td>6000</td>\n",
       "      <td>6000.0</td>\n",
       "      <td>15.31</td>\n",
       "      <td>36.0</td>\n",
       "      <td>other</td>\n",
       "      <td>20.05</td>\n",
       "      <td>CT</td>\n",
       "      <td>OWN</td>\n",
       "      <td>4891.67</td>\n",
       "      <td>670-674</td>\n",
       "      <td>17.0</td>\n",
       "      <td>10391.0</td>\n",
       "      <td>2.0</td>\n",
       "      <td>3 years</td>\n",
       "      <td>0.0</td>\n",
       "      <td>0.0</td>\n",
       "      <td>1.0</td>\n",
       "      <td>0.0</td>\n",
       "      <td>674.0</td>\n",
       "    </tr>\n",
       "    <tr>\n",
       "      <th>48808</th>\n",
       "      <td>10000</td>\n",
       "      <td>10000.0</td>\n",
       "      <td>7.90</td>\n",
       "      <td>36.0</td>\n",
       "      <td>debt_consolidation</td>\n",
       "      <td>26.09</td>\n",
       "      <td>MA</td>\n",
       "      <td>RENT</td>\n",
       "      <td>2916.67</td>\n",
       "      <td>720-724</td>\n",
       "      <td>10.0</td>\n",
       "      <td>15957.0</td>\n",
       "      <td>0.0</td>\n",
       "      <td>10+ years</td>\n",
       "      <td>0.0</td>\n",
       "      <td>0.0</td>\n",
       "      <td>0.0</td>\n",
       "      <td>1.0</td>\n",
       "      <td>724.0</td>\n",
       "    </tr>\n",
       "    <tr>\n",
       "      <th>22090</th>\n",
       "      <td>33500</td>\n",
       "      <td>33450.0</td>\n",
       "      <td>17.14</td>\n",
       "      <td>60.0</td>\n",
       "      <td>credit_card</td>\n",
       "      <td>14.70</td>\n",
       "      <td>LA</td>\n",
       "      <td>MORTGAGE</td>\n",
       "      <td>13863.42</td>\n",
       "      <td>705-709</td>\n",
       "      <td>12.0</td>\n",
       "      <td>27874.0</td>\n",
       "      <td>0.0</td>\n",
       "      <td>10+ years</td>\n",
       "      <td>1.0</td>\n",
       "      <td>0.0</td>\n",
       "      <td>0.0</td>\n",
       "      <td>0.0</td>\n",
       "      <td>709.0</td>\n",
       "    </tr>\n",
       "    <tr>\n",
       "      <th>76404</th>\n",
       "      <td>14675</td>\n",
       "      <td>14675.0</td>\n",
       "      <td>14.33</td>\n",
       "      <td>36.0</td>\n",
       "      <td>credit_card</td>\n",
       "      <td>26.92</td>\n",
       "      <td>CA</td>\n",
       "      <td>RENT</td>\n",
       "      <td>3150.00</td>\n",
       "      <td>685-689</td>\n",
       "      <td>9.0</td>\n",
       "      <td>7246.0</td>\n",
       "      <td>1.0</td>\n",
       "      <td>8 years</td>\n",
       "      <td>0.0</td>\n",
       "      <td>0.0</td>\n",
       "      <td>0.0</td>\n",
       "      <td>1.0</td>\n",
       "      <td>689.0</td>\n",
       "    </tr>\n",
       "    <tr>\n",
       "      <th>15867</th>\n",
       "      <td>7000</td>\n",
       "      <td>7000.0</td>\n",
       "      <td>6.91</td>\n",
       "      <td>36.0</td>\n",
       "      <td>credit_card</td>\n",
       "      <td>7.10</td>\n",
       "      <td>CA</td>\n",
       "      <td>RENT</td>\n",
       "      <td>5000.00</td>\n",
       "      <td>715-719</td>\n",
       "      <td>8.0</td>\n",
       "      <td>7612.0</td>\n",
       "      <td>0.0</td>\n",
       "      <td>3 years</td>\n",
       "      <td>0.0</td>\n",
       "      <td>0.0</td>\n",
       "      <td>0.0</td>\n",
       "      <td>1.0</td>\n",
       "      <td>719.0</td>\n",
       "    </tr>\n",
       "  </tbody>\n",
       "</table>\n",
       "</div>"
      ],
      "text/plain": [
       "       Amount.Requested  Amount.Funded.By.Investors  Interest.Rate  \\\n",
       "81174             20000                     20000.0           8.90   \n",
       "99592             19200                     19200.0          12.12   \n",
       "80059             35000                     35000.0          21.98   \n",
       "15825             10000                      9975.0           9.99   \n",
       "33182             12000                     12000.0          11.71   \n",
       "62403              6000                      6000.0          15.31   \n",
       "48808             10000                     10000.0           7.90   \n",
       "22090             33500                     33450.0          17.14   \n",
       "76404             14675                     14675.0          14.33   \n",
       "15867              7000                      7000.0           6.91   \n",
       "\n",
       "       Loan.Length        Loan.Purpose  Debt.To.Income.Ratio State  \\\n",
       "81174         36.0  debt_consolidation                 14.90    SC   \n",
       "99592         36.0  debt_consolidation                 28.36    TX   \n",
       "80059         60.0  debt_consolidation                 23.81    CA   \n",
       "15825         36.0  debt_consolidation                 14.30    KS   \n",
       "33182         36.0         credit_card                 18.78    NJ   \n",
       "62403         36.0               other                 20.05    CT   \n",
       "48808         36.0  debt_consolidation                 26.09    MA   \n",
       "22090         60.0         credit_card                 14.70    LA   \n",
       "76404         36.0         credit_card                 26.92    CA   \n",
       "15867         36.0         credit_card                  7.10    CA   \n",
       "\n",
       "      Home.Ownership  Monthly.Income FICO.Range  Open.CREDIT.Lines  \\\n",
       "81174       MORTGAGE         6541.67    735-739               14.0   \n",
       "99592       MORTGAGE         4583.33    715-719               12.0   \n",
       "80059       MORTGAGE        11500.00    690-694               14.0   \n",
       "15825       MORTGAGE         3833.33    695-699               10.0   \n",
       "33182           RENT         3195.00    695-699               11.0   \n",
       "62403            OWN         4891.67    670-674               17.0   \n",
       "48808           RENT         2916.67    720-724               10.0   \n",
       "22090       MORTGAGE        13863.42    705-709               12.0   \n",
       "76404           RENT         3150.00    685-689                9.0   \n",
       "15867           RENT         5000.00    715-719                8.0   \n",
       "\n",
       "       Revolving.CREDIT.Balance  Inquiries.in.the.Last.6.Months  \\\n",
       "81174                   14272.0                             2.0   \n",
       "99592                   11140.0                             1.0   \n",
       "80059                   21977.0                             1.0   \n",
       "15825                    9346.0                             0.0   \n",
       "33182                   14469.0                             0.0   \n",
       "62403                   10391.0                             2.0   \n",
       "48808                   15957.0                             0.0   \n",
       "22090                   27874.0                             0.0   \n",
       "76404                    7246.0                             1.0   \n",
       "15867                    7612.0                             0.0   \n",
       "\n",
       "      Employment.Length  MORTGAGE  OTHER  OWN  RENT   FICO  \n",
       "81174          < 1 year       1.0    0.0  0.0   0.0  739.0  \n",
       "99592           2 years       1.0    0.0  0.0   0.0  719.0  \n",
       "80059           2 years       1.0    0.0  0.0   0.0  694.0  \n",
       "15825           5 years       1.0    0.0  0.0   0.0  699.0  \n",
       "33182           9 years       0.0    0.0  0.0   1.0  699.0  \n",
       "62403           3 years       0.0    0.0  1.0   0.0  674.0  \n",
       "48808         10+ years       0.0    0.0  0.0   1.0  724.0  \n",
       "22090         10+ years       1.0    0.0  0.0   0.0  709.0  \n",
       "76404           8 years       0.0    0.0  0.0   1.0  689.0  \n",
       "15867           3 years       0.0    0.0  0.0   1.0  719.0  "
      ]
     },
     "execution_count": 14,
     "metadata": {},
     "output_type": "execute_result"
    }
   ],
   "source": [
    "#use the dropna() method to drop any NA or NaN entries (rows, not columns!)\n",
    "loansData = loansData.dropna()\n",
    "\n",
    "#by using lambda abstraction (lambda x: f(x)) and the pandas DataFrame .apply() method remove the '%' signs from the Interest.Rate variable\n",
    "loansData['Interest.Rate'] = loansData['Interest.Rate'].apply(lambda x: x.replace('%','')).astype(float)\n",
    "\n",
    "#get dummy variables for Home.Ownership and add them to the DataFrame\n",
    "#use the .astype('category') method to represent the column as categorical data\n",
    "#use pd.get_dummies() to get the dummy variables, and pd.concat() to add them to our DataFrame\n",
    "loansData['Home.Ownership'] = loansData['Home.Ownership'].astype('category')\n",
    "dummy_columns = pd.get_dummies(loansData['Home.Ownership'])\n",
    "loansData = pd.concat([loansData,dummy_columns],axis = 1)\n",
    "\n",
    "\n",
    "loansData['Debt.To.Income.Ratio'] = loansData['Debt.To.Income.Ratio'].apply(lambda x: x.replace('%','')).astype(float)\n",
    "\n",
    "loansData['Loan.Length'] = loansData['Loan.Length'].apply(lambda x: x.replace(' months','')).astype(float)\n",
    "\n",
    "loansData['FICO'] = loansData['FICO.Range'].apply(lambda x: x.split('-')[1]).astype(float)\n",
    "\n",
    "loansData = loansData.dropna()\n",
    "\n",
    "loansData.head(10)"
   ]
  },
  {
   "cell_type": "markdown",
   "metadata": {},
   "source": [
    "Check the variables in our dataset:"
   ]
  },
  {
   "cell_type": "code",
   "execution_count": 8,
   "metadata": {
    "collapsed": false
   },
   "outputs": [
    {
     "name": "stdout",
     "output_type": "stream",
     "text": [
      "<class 'pandas.core.frame.DataFrame'>\n",
      "Int64Index: 2498 entries, 81174 to 3116\n",
      "Data columns (total 15 columns):\n",
      "Amount.Requested                  2498 non-null int64\n",
      "Amount.Funded.By.Investors        2498 non-null float64\n",
      "Interest.Rate                     2498 non-null float64\n",
      "Loan.Length                       2498 non-null float64\n",
      "Loan.Purpose                      2498 non-null object\n",
      "Debt.To.Income.Ratio              2498 non-null float64\n",
      "State                             2498 non-null object\n",
      "Home.Ownership                    2498 non-null category\n",
      "Monthly.Income                    2498 non-null float64\n",
      "FICO.Range                        2498 non-null object\n",
      "Open.CREDIT.Lines                 2498 non-null float64\n",
      "Revolving.CREDIT.Balance          2498 non-null float64\n",
      "Inquiries.in.the.Last.6.Months    2498 non-null float64\n",
      "Employment.Length                 2498 non-null object\n",
      "FICO                              2498 non-null float64\n",
      "dtypes: category(1), float64(9), int64(1), object(4)\n",
      "memory usage: 295.2+ KB\n"
     ]
    }
   ],
   "source": [
    "#use .info() to check the contents of the processed data\n",
    "loansData.info()"
   ]
  },
  {
   "cell_type": "markdown",
   "metadata": {},
   "source": [
    "Divide the data into train and test datasets:"
   ]
  },
  {
   "cell_type": "code",
   "execution_count": 15,
   "metadata": {
    "collapsed": false,
    "scrolled": false
   },
   "outputs": [],
   "source": [
    "from sklearn.cross_validation import train_test_split\n",
    "\n",
    "#use the train_test_split function to split the dataset into training and test, with test_size = 0.25\n",
    "train,test = train_test_split(loansData,test_size=0.25)"
   ]
  },
  {
   "cell_type": "markdown",
   "metadata": {},
   "source": [
    "Let us select all the numeric variables, and the dummy variables created from the Home.Ownership categorical variable and ignore (for now) other categorical variables.\n",
    "\n",
    "Before performing any sort of linear regression the data needs to be checked for (multi)collinearities. Let us check the condition number of the correlation matrix and remove potentially colinear variables."
   ]
  },
  {
   "cell_type": "code",
   "execution_count": 18,
   "metadata": {
    "collapsed": false
   },
   "outputs": [
    {
     "name": "stdout",
     "output_type": "stream",
     "text": [
      "4.03524760741e+15\n",
      "5.33766557713\n"
     ]
    }
   ],
   "source": [
    "# all the considered input variables are given here\n",
    "input_variables = ['Amount.Requested',\n",
    "                     'Amount.Funded.By.Investors',\n",
    "                     'Loan.Length',\n",
    "                     'Debt.To.Income.Ratio',\n",
    "                     'Monthly.Income',\n",
    "                     'Open.CREDIT.Lines',\n",
    "                     'Revolving.CREDIT.Balance',\n",
    "                     'Inquiries.in.the.Last.6.Months',\n",
    "                     'FICO',\n",
    "                     'MORTGAGE',\n",
    "                     'OTHER',\n",
    "                     'OWN',\n",
    "                     'RENT']\n",
    "\n",
    "# calculate the condition number of the correlation matrix of the input variables\n",
    "# use np.linalg.cond() and the pandas .corr() methods\n",
    "print np.linalg.cond(train[input_variables].corr())\n",
    "\n",
    "# inspect the correlation matrix and identify collinearities\n",
    "train[input_variables].corr()\n",
    "\n",
    "#define the new input variable list (without the dropped ones) and calculate the condition number of the correlation\n",
    "input_variables = ['Amount.Requested',\n",
    "                     'Loan.Length',\n",
    "                     'Debt.To.Income.Ratio',\n",
    "                     'Monthly.Income',\n",
    "                     'Open.CREDIT.Lines',\n",
    "                     'Revolving.CREDIT.Balance',\n",
    "                     'Inquiries.in.the.Last.6.Months',\n",
    "                     'FICO',\n",
    "                     'MORTGAGE',\n",
    "                     'OTHER',\n",
    "                     'OWN']\n",
    "print np.linalg.cond(train[input_variables].corr())\n",
    "\n"
   ]
  },
  {
   "cell_type": "markdown",
   "metadata": {},
   "source": [
    "## Linear Regression"
   ]
  },
  {
   "cell_type": "markdown",
   "metadata": {},
   "source": [
    "We will use linear regression to answer some important questions which might arise in a real-life setting:\n",
    "* Is there a relationship between the borrower information and the interest rate?\n",
    "* How strong is the relationship?\n",
    "* Which variables influence the interest rate and how string is the effect?\n",
    "* Can we predict (and with what accuracy) the loan interest rate by knowing the information on the borrower?\n",
    "\n",
    "The linear regression model assumes a linear relationship between the input vector $X = [X_1,X_2,...,X_p]^T$ and the output $Y$: \n",
    "\n",
    "$$Y = \\beta_0 + \\sum_{j = 1}^{p}\\beta_jX_j + \\epsilon.$$\n",
    "\n",
    "Here $\\beta_0$ is the intercept term - the expected value of $Y$ when $X = 0$, and $\\beta_j$ is the slope - the average increase in $Y$ associated with a one-unit increase in $X_j$. The error term $\\epsilon$ captures everything the model cannot predict: the true relationship may not be linear, there may be other variables unaccounted for, or there may be measurement or other variation in the data.\n",
    "\n",
    "Typically the coefficients $\\beta = [\\beta_0,\\beta_1,...,\\beta_p]^T$ are estimated to minimize the residual sum of squares (RSS):\n",
    "\n",
    "$$RSS(\\beta) = \\sum_{i = 1}^{N}(y_i - \\hat{y}_i)^2 = (\\mathbf{y}-\\mathbf{X}\\beta)^T(\\mathbf{y}-\\mathbf{X}\\beta),$$\n",
    "\n",
    "where $\\mathbf{X} \\in \\mathbb{R}^{N\\times (p+1)}$ contains the input vectors (with 1 in the first position for the intercept term), and $\\mathbf{y} \\in \\mathbb{R}^{N}$ is the vector of outputs in the training set.\n",
    "\n",
    "Assuming that $\\mathbf{X}$ has full column rank ($\\mathbf{X}^T\\mathbf{X}$ is positive definite), the least squares estimate of the coefficients reads:\n",
    "\n",
    "$$\\hat{\\beta} = (\\mathbf{X}^T\\mathbf{X})^{-1}\\mathbf{X}^T\\mathbf{y}$$\n",
    "\n",
    "The linear regression coefficients can be estimated by using the `linear_model.LinearRegression` class from `scikit-learn` and the `fit()` method. The regression coefficients $\\beta$ can be accessed in the `intercept_` and `coef_` attributes. The predicted values for a set of inputs can be obtained using the `predict()` method. \n",
    "\n",
    "Detailed documentation on these, along with a few useful examples, can be found at:  http://scikit-learn.org/stable/modules/generated/sklearn.linear_model.LinearRegression.html"
   ]
  },
  {
   "cell_type": "markdown",
   "metadata": {},
   "source": [
    "Let us try out the univariate linear regression: select an input variable, initialize the model, fit the model to the data and inspect the coefficients."
   ]
  },
  {
   "cell_type": "code",
   "execution_count": 19,
   "metadata": {
    "collapsed": false
   },
   "outputs": [
    {
     "name": "stdout",
     "output_type": "stream",
     "text": [
      "11.566654988\n",
      "[ 0.09769019]\n"
     ]
    }
   ],
   "source": [
    "from sklearn import linear_model\n",
    "\n",
    "# use the Debt.To.Income.Ratio as the input variable and fit a linear regression model\n",
    "# use the linear_model.LinearRegression class and the .fit() method\n",
    "input_variable = ['Debt.To.Income.Ratio']\n",
    "output_variable = ['Interest.Rate']\n",
    "X = train[input_variable]\n",
    "Y = train[output_variable]\n",
    "linreg_univariate = linear_model.LinearRegression().fit(X,Y)\n",
    "\n",
    "# access and print the regression coefficients, using the intercept_ and coef_ attributes\n",
    "print linreg_univariate.intercept_\n",
    "print linreg_univariate.coef_"
   ]
  },
  {
   "cell_type": "markdown",
   "metadata": {},
   "source": [
    "Plot the training data and the regression line, using the fitted model predictions. Model predictions are obtained using the .predict() method."
   ]
  },
  {
   "cell_type": "code",
   "execution_count": 21,
   "metadata": {
    "collapsed": false
   },
   "outputs": [
    {
     "data": {
      "image/png": "[encoded data removed]",
      "text/plain": [
       "<matplotlib.figure.Figure at 0x1123cc850>"
      ]
     },
     "metadata": {},
     "output_type": "display_data"
    }
   ],
   "source": [
    "# use .scatter() in matplotlib.pyplot to plot the data and .plot() to add the regression line\n",
    "# to obtain the regression line, you can use the model predictions from the LinearRegression.predict() method\n",
    "plt.scatter(X,Y)\n",
    "plt.plot(X,linreg_univariate.predict(X),color='red')\n",
    "plt.show()"
   ]
  },
  {
   "cell_type": "markdown",
   "metadata": {
    "collapsed": false
   },
   "source": [
    "Other simple things to explore:\n",
    "* Calculate and plot residuals\n",
    "* Inspect the residual distribution (probability plot - implemented in scipy.stats.probplot http://docs.scipy.org/doc/scipy/reference/generated/scipy.stats.probplot.html)\n"
   ]
  },
  {
   "cell_type": "markdown",
   "metadata": {},
   "source": [
    "### Coefficient Estimates\n",
    "\n",
    "#### t-test\n",
    "The t-test is used to check the significance of individual regression coefficients. The null hypothesis to test the significance of a particular regression coefficient estimate $\\hat{\\beta_j}$ is $H_0: \\beta_j = 0$, and the alternative $H_1: \\beta_j \\neq 0$. The test statistic is based on the $t$-distribution and is given by:\n",
    "\n",
    "$$t = \\frac{\\beta_j - 0}{SE(\\beta_j)},$$\n",
    "\n",
    "where $SE(\\beta_j)$ is the standard error of the $\\beta_j$ estimate. The t-statistic basically measures the number of standard deviations that $\\beta_j$ is away from 0. If there is no relationship between $X_j$ and $Y$, the t-statistic will have a t-distribution with $N-p-1$ degrees of freedom. In most cases we test whether $\\beta_0 = 0$ (these t-statistics are used to test the significance of the corresponding regressor) - however, when the t-statistic is needed to test the hypothesis of the form $H_0: \\beta = \\beta_0$, then a non-zero $\\beta_0$ may be used. The probability of observing any value equal or greater than $|t|$ is the p-value.\n",
    "\n",
    "The scikit-learn module does not calculate this information, but there are other ways to retrieve it:\n",
    "* write a piece of code to calculate it when necessary\n",
    "* extend the LinearRegression class to do this\n",
    "* use another package, like scipy or statsmodels\n",
    "\n",
    "Let us use the statmodels implementation of the ordinary least squares to perform the regression and inspect the significance of the coefficient estimates. The documentation can be found here:\n",
    "http://statsmodels.sourceforge.net/devel/generated/statsmodels.regression.linear_model.OLS.html"
   ]
  },
  {
   "cell_type": "code",
   "execution_count": 22,
   "metadata": {
    "collapsed": false
   },
   "outputs": [
    {
     "data": {
      "text/html": [
       "<table class=\"simpletable\">\n",
       "<caption>OLS Regression Results</caption>\n",
       "<tr>\n",
       "  <th>Dep. Variable:</th>      <td>Interest.Rate</td>  <th>  R-squared:         </th> <td>   0.031</td> \n",
       "</tr>\n",
       "<tr>\n",
       "  <th>Model:</th>                   <td>OLS</td>       <th>  Adj. R-squared:    </th> <td>   0.030</td> \n",
       "</tr>\n",
       "<tr>\n",
       "  <th>Method:</th>             <td>Least Squares</td>  <th>  F-statistic:       </th> <td>   59.78</td> \n",
       "</tr>\n",
       "<tr>\n",
       "  <th>Date:</th>             <td>Thu, 29 Sep 2016</td> <th>  Prob (F-statistic):</th> <td>1.72e-14</td> \n",
       "</tr>\n",
       "<tr>\n",
       "  <th>Time:</th>                 <td>00:14:35</td>     <th>  Log-Likelihood:    </th> <td> -5294.2</td> \n",
       "</tr>\n",
       "<tr>\n",
       "  <th>No. Observations:</th>      <td>  1873</td>      <th>  AIC:               </th> <td>1.059e+04</td>\n",
       "</tr>\n",
       "<tr>\n",
       "  <th>Df Residuals:</th>          <td>  1871</td>      <th>  BIC:               </th> <td>1.060e+04</td>\n",
       "</tr>\n",
       "<tr>\n",
       "  <th>Df Model:</th>              <td>     1</td>      <th>                     </th>     <td> </td>    \n",
       "</tr>\n",
       "<tr>\n",
       "  <th>Covariance Type:</th>      <td>nonrobust</td>    <th>                     </th>     <td> </td>    \n",
       "</tr>\n",
       "</table>\n",
       "<table class=\"simpletable\">\n",
       "<tr>\n",
       "            <td></td>              <th>coef</th>     <th>std err</th>      <th>t</th>      <th>P>|t|</th> <th>[95.0% Conf. Int.]</th> \n",
       "</tr>\n",
       "<tr>\n",
       "  <th>const</th>                <td>   11.5667</td> <td>    0.216</td> <td>   53.485</td> <td> 0.000</td> <td>   11.143    11.991</td>\n",
       "</tr>\n",
       "<tr>\n",
       "  <th>Debt.To.Income.Ratio</th> <td>    0.0977</td> <td>    0.013</td> <td>    7.732</td> <td> 0.000</td> <td>    0.073     0.122</td>\n",
       "</tr>\n",
       "</table>\n",
       "<table class=\"simpletable\">\n",
       "<tr>\n",
       "  <th>Omnibus:</th>       <td>42.628</td> <th>  Durbin-Watson:     </th> <td>   2.028</td>\n",
       "</tr>\n",
       "<tr>\n",
       "  <th>Prob(Omnibus):</th> <td> 0.000</td> <th>  Jarque-Bera (JB):  </th> <td>  36.824</td>\n",
       "</tr>\n",
       "<tr>\n",
       "  <th>Skew:</th>          <td> 0.281</td> <th>  Prob(JB):          </th> <td>1.01e-08</td>\n",
       "</tr>\n",
       "<tr>\n",
       "  <th>Kurtosis:</th>      <td> 2.604</td> <th>  Cond. No.          </th> <td>    39.3</td>\n",
       "</tr>\n",
       "</table>"
      ],
      "text/plain": [
       "<class 'statsmodels.iolib.summary.Summary'>\n",
       "\"\"\"\n",
       "                            OLS Regression Results                            \n",
       "==============================================================================\n",
       "Dep. Variable:          Interest.Rate   R-squared:                       0.031\n",
       "Model:                            OLS   Adj. R-squared:                  0.030\n",
       "Method:                 Least Squares   F-statistic:                     59.78\n",
       "Date:                Thu, 29 Sep 2016   Prob (F-statistic):           1.72e-14\n",
       "Time:                        00:14:35   Log-Likelihood:                -5294.2\n",
       "No. Observations:                1873   AIC:                         1.059e+04\n",
       "Df Residuals:                    1871   BIC:                         1.060e+04\n",
       "Df Model:                           1                                         \n",
       "Covariance Type:            nonrobust                                         \n",
       "========================================================================================\n",
       "                           coef    std err          t      P>|t|      [95.0% Conf. Int.]\n",
       "----------------------------------------------------------------------------------------\n",
       "const                   11.5667      0.216     53.485      0.000        11.143    11.991\n",
       "Debt.To.Income.Ratio     0.0977      0.013      7.732      0.000         0.073     0.122\n",
       "==============================================================================\n",
       "Omnibus:                       42.628   Durbin-Watson:                   2.028\n",
       "Prob(Omnibus):                  0.000   Jarque-Bera (JB):               36.824\n",
       "Skew:                           0.281   Prob(JB):                     1.01e-08\n",
       "Kurtosis:                       2.604   Cond. No.                         39.3\n",
       "==============================================================================\n",
       "\n",
       "Warnings:\n",
       "[1] Standard Errors assume that the covariance matrix of the errors is correctly specified.\n",
       "\"\"\""
      ]
     },
     "execution_count": 22,
     "metadata": {},
     "output_type": "execute_result"
    }
   ],
   "source": [
    "import statsmodels.api as sm\n",
    "\n",
    "#use the statsmodels class OLS and the .fit() method\n",
    "#statsmodels does not automatically include an intercept term in the linear regression model\n",
    "#use sm.add_constant() to append a constant term\n",
    "\n",
    "linreg_univariate_sm = sm.OLS(Y,sm.add_constant(X)).fit()\n",
    "linreg_univariate_sm.summary()"
   ]
  },
  {
   "cell_type": "markdown",
   "metadata": {},
   "source": [
    "### Model accuracy\n",
    "We can measure the model accuracy by using several different methods:\n",
    "\n",
    "#### RSE\n",
    "The residual standard error (RSE) is an estimate of the standard deviation, and is given by:\n",
    "\n",
    "$$RSE = \\sqrt{\\frac{1}{N-p-1}RSS}$$\n",
    "\n",
    "We can calculate the percentage error of the model as the quotient of the RSE by the output mean value: $\\frac{RSE}{\\hat{Y}}$.\n",
    "\n",
    "Note that due to the fact that $RSE$ accounts for $p$, models with more variables can have higher RSE if the decrease in RSS is small relative to the increase in $p$.\n",
    "\n",
    "#### $R^2$ \n",
    "The $R^2$ measure, as opposed to the RSE, provides a measure of the proportion of variance explained by the model. It always takes on a value between 0 and 1 and is given by:\n",
    "\n",
    "$$R^2 = 1 - \\frac{RSS}{TSS},$$\n",
    "\n",
    "where $TSS = \\sum_{i = 1}^{N}(y_i - \\bar{y})^2$ is the total sum of squares. \n",
    "\n",
    "\n",
    "\n",
    "Let us inspect the accuracy of our univariate regression model, use the .score() method to calculate the $R^2$ value, for both training and test data."
   ]
  },
  {
   "cell_type": "code",
   "execution_count": 23,
   "metadata": {
    "collapsed": false
   },
   "outputs": [
    {
     "name": "stdout",
     "output_type": "stream",
     "text": [
      "31274.572669\n",
      "4.08845101202\n",
      "0.312793460607\n",
      "0.0309622504094\n",
      "0.025881375609\n"
     ]
    }
   ],
   "source": [
    "#use the .predict() method to calculate residuals\n",
    "residuals = Y - linreg_univariate.predict(X)\n",
    "#calculate the RSS, use np.sum()\n",
    "RSS = np.sum(residuals**2)\n",
    "print RSS\n",
    "\n",
    "#calculate the RSE, using np.sqrt() and len(X) (for the number of observations)\n",
    "RSE = np.sqrt(RSS/(len(X)-2))\n",
    "print RSE\n",
    "\n",
    "#using RSE and the output mean (using np.mean), calculate the percentage error\n",
    "percentage_error = RSE/np.mean(Y)\n",
    "print percentage_error\n",
    "\n",
    "#using the LinearRegression.score() method, calculate the R^2 score for training and test sets\n",
    "print linreg_univariate.score(X,Y)\n",
    "print linreg_univariate.score(test[input_variable],test[output_variable])"
   ]
  },
  {
   "cell_type": "markdown",
   "metadata": {},
   "source": [
    "### Considerations:\n",
    "\n",
    "* How do you comment the fact that this model has such a good p-value for the coefficient estimate t-test, but a very low $R^2$ score?\n",
    "\n",
    "* Can the $R^2$ score for test set be better than the one for the training set?\n",
    "\n",
    "* Can the $R^2$ score be negative?\n"
   ]
  },
  {
   "cell_type": "markdown",
   "metadata": {},
   "source": [
    "Let us now fit a **multivariate linear regression** model using multiple input variables. Estimate the model accuracy and compare it to the univariate case. Is this model better? \n",
    "\n",
    "\n",
    "A very important tool in assessing multivariate regression models is the F-test.\n",
    "\n",
    "\n",
    "### F-test\n",
    "The F-test is used to check the significance of multiple regression coefficients. The null hypothsis reads: $H_0: \\beta_1,\\beta_1,...\\beta_p = 0$ and the alternative is $H_1:$ at least one $\\beta_j$ is non-zero. The test statistic is given by:\n",
    "\n",
    "$$F = \\frac{(TSS-RSS)/p}{RSS/(N-p-1)}.$$\n",
    " \n",
    "The F-test is also included in the OLS class within the statsmodels package."
   ]
  },
  {
   "cell_type": "code",
   "execution_count": 24,
   "metadata": {
    "collapsed": false
   },
   "outputs": [
    {
     "name": "stdout",
     "output_type": "stream",
     "text": [
      "0.755103651694\n",
      "0.767634713712\n"
     ]
    }
   ],
   "source": [
    "# just a reminder on our input_variables\n",
    "input_variables = ['Amount.Requested',\n",
    "                     'Loan.Length',\n",
    "                     'Debt.To.Income.Ratio',\n",
    "                     'Monthly.Income',\n",
    "                     'Open.CREDIT.Lines',\n",
    "                     'Revolving.CREDIT.Balance',\n",
    "                     'Inquiries.in.the.Last.6.Months',\n",
    "                     'FICO',\n",
    "                     'MORTGAGE',\n",
    "                     'OTHER',\n",
    "                     'OWN']\n",
    "\n",
    "#use the LinearRegression class to fit a multivariate linear regression model\n",
    "X = train[input_variables]\n",
    "Y = train[output_variable]\n",
    "linreg_multivariate = linear_model.LinearRegression().fit(X,Y)\n",
    "\n",
    "# calculate the R^2 score for both the training and test sets\n",
    "print linreg_multivariate.score(X,Y)\n",
    "print linreg_multivariate.score(test[input_variables],test[output_variable])"
   ]
  },
  {
   "cell_type": "markdown",
   "metadata": {},
   "source": [
    "Including additional predictions seems to have improved the model - let us check the F-statistic:"
   ]
  },
  {
   "cell_type": "code",
   "execution_count": 25,
   "metadata": {
    "collapsed": false,
    "scrolled": false
   },
   "outputs": [
    {
     "data": {
      "text/html": [
       "<table class=\"simpletable\">\n",
       "<caption>OLS Regression Results</caption>\n",
       "<tr>\n",
       "  <th>Dep. Variable:</th>      <td>Interest.Rate</td>  <th>  R-squared:         </th> <td>   0.755</td>\n",
       "</tr>\n",
       "<tr>\n",
       "  <th>Model:</th>                   <td>OLS</td>       <th>  Adj. R-squared:    </th> <td>   0.754</td>\n",
       "</tr>\n",
       "<tr>\n",
       "  <th>Method:</th>             <td>Least Squares</td>  <th>  F-statistic:       </th> <td>   521.6</td>\n",
       "</tr>\n",
       "<tr>\n",
       "  <th>Date:</th>             <td>Thu, 29 Sep 2016</td> <th>  Prob (F-statistic):</th>  <td>  0.00</td> \n",
       "</tr>\n",
       "<tr>\n",
       "  <th>Time:</th>                 <td>00:28:01</td>     <th>  Log-Likelihood:    </th> <td> -4006.0</td>\n",
       "</tr>\n",
       "<tr>\n",
       "  <th>No. Observations:</th>      <td>  1873</td>      <th>  AIC:               </th> <td>   8036.</td>\n",
       "</tr>\n",
       "<tr>\n",
       "  <th>Df Residuals:</th>          <td>  1861</td>      <th>  BIC:               </th> <td>   8103.</td>\n",
       "</tr>\n",
       "<tr>\n",
       "  <th>Df Model:</th>              <td>    11</td>      <th>                     </th>     <td> </td>   \n",
       "</tr>\n",
       "<tr>\n",
       "  <th>Covariance Type:</th>      <td>nonrobust</td>    <th>                     </th>     <td> </td>   \n",
       "</tr>\n",
       "</table>\n",
       "<table class=\"simpletable\">\n",
       "<tr>\n",
       "                 <td></td>                   <th>coef</th>     <th>std err</th>      <th>t</th>      <th>P>|t|</th> <th>[95.0% Conf. Int.]</th> \n",
       "</tr>\n",
       "<tr>\n",
       "  <th>const</th>                          <td>   68.6802</td> <td>    1.078</td> <td>   63.730</td> <td> 0.000</td> <td>   66.567    70.794</td>\n",
       "</tr>\n",
       "<tr>\n",
       "  <th>Amount.Requested</th>               <td>    0.0002</td> <td> 7.63e-06</td> <td>   19.767</td> <td> 0.000</td> <td>    0.000     0.000</td>\n",
       "</tr>\n",
       "<tr>\n",
       "  <th>Loan.Length</th>                    <td>    0.1370</td> <td>    0.005</td> <td>   25.853</td> <td> 0.000</td> <td>    0.127     0.147</td>\n",
       "</tr>\n",
       "<tr>\n",
       "  <th>Debt.To.Income.Ratio</th>           <td>   -0.0011</td> <td>    0.007</td> <td>   -0.148</td> <td> 0.883</td> <td>   -0.016     0.013</td>\n",
       "</tr>\n",
       "<tr>\n",
       "  <th>Monthly.Income</th>                 <td>-1.738e-05</td> <td> 1.47e-05</td> <td>   -1.181</td> <td> 0.238</td> <td>-4.62e-05  1.15e-05</td>\n",
       "</tr>\n",
       "<tr>\n",
       "  <th>Open.CREDIT.Lines</th>              <td>   -0.0327</td> <td>    0.012</td> <td>   -2.730</td> <td> 0.006</td> <td>   -0.056    -0.009</td>\n",
       "</tr>\n",
       "<tr>\n",
       "  <th>Revolving.CREDIT.Balance</th>       <td>-4.283e-06</td> <td> 2.93e-06</td> <td>   -1.462</td> <td> 0.144</td> <td>   -1e-05  1.46e-06</td>\n",
       "</tr>\n",
       "<tr>\n",
       "  <th>Inquiries.in.the.Last.6.Months</th> <td>    0.3283</td> <td>    0.040</td> <td>    8.293</td> <td> 0.000</td> <td>    0.251     0.406</td>\n",
       "</tr>\n",
       "<tr>\n",
       "  <th>FICO</th>                           <td>   -0.0886</td> <td>    0.001</td> <td>  -60.542</td> <td> 0.000</td> <td>   -0.091    -0.086</td>\n",
       "</tr>\n",
       "<tr>\n",
       "  <th>MORTGAGE</th>                       <td>   -0.1995</td> <td>    0.105</td> <td>   -1.906</td> <td> 0.057</td> <td>   -0.405     0.006</td>\n",
       "</tr>\n",
       "<tr>\n",
       "  <th>OTHER</th>                          <td>   -0.0497</td> <td>    1.194</td> <td>   -0.042</td> <td> 0.967</td> <td>   -2.391     2.291</td>\n",
       "</tr>\n",
       "<tr>\n",
       "  <th>OWN</th>                            <td>    0.0526</td> <td>    0.184</td> <td>    0.285</td> <td> 0.775</td> <td>   -0.309     0.414</td>\n",
       "</tr>\n",
       "</table>\n",
       "<table class=\"simpletable\">\n",
       "<tr>\n",
       "  <th>Omnibus:</th>       <td>164.260</td> <th>  Durbin-Watson:     </th> <td>   2.007</td>\n",
       "</tr>\n",
       "<tr>\n",
       "  <th>Prob(Omnibus):</th> <td> 0.000</td>  <th>  Jarque-Bera (JB):  </th> <td> 324.458</td>\n",
       "</tr>\n",
       "<tr>\n",
       "  <th>Skew:</th>          <td> 0.575</td>  <th>  Prob(JB):          </th> <td>3.51e-71</td>\n",
       "</tr>\n",
       "<tr>\n",
       "  <th>Kurtosis:</th>      <td> 4.684</td>  <th>  Cond. No.          </th> <td>6.72e+05</td>\n",
       "</tr>\n",
       "</table>"
      ],
      "text/plain": [
       "<class 'statsmodels.iolib.summary.Summary'>\n",
       "\"\"\"\n",
       "                            OLS Regression Results                            \n",
       "==============================================================================\n",
       "Dep. Variable:          Interest.Rate   R-squared:                       0.755\n",
       "Model:                            OLS   Adj. R-squared:                  0.754\n",
       "Method:                 Least Squares   F-statistic:                     521.6\n",
       "Date:                Thu, 29 Sep 2016   Prob (F-statistic):               0.00\n",
       "Time:                        00:28:01   Log-Likelihood:                -4006.0\n",
       "No. Observations:                1873   AIC:                             8036.\n",
       "Df Residuals:                    1861   BIC:                             8103.\n",
       "Df Model:                          11                                         \n",
       "Covariance Type:            nonrobust                                         \n",
       "==================================================================================================\n",
       "                                     coef    std err          t      P>|t|      [95.0% Conf. Int.]\n",
       "--------------------------------------------------------------------------------------------------\n",
       "const                             68.6802      1.078     63.730      0.000        66.567    70.794\n",
       "Amount.Requested                   0.0002   7.63e-06     19.767      0.000         0.000     0.000\n",
       "Loan.Length                        0.1370      0.005     25.853      0.000         0.127     0.147\n",
       "Debt.To.Income.Ratio              -0.0011      0.007     -0.148      0.883        -0.016     0.013\n",
       "Monthly.Income                 -1.738e-05   1.47e-05     -1.181      0.238     -4.62e-05  1.15e-05\n",
       "Open.CREDIT.Lines                 -0.0327      0.012     -2.730      0.006        -0.056    -0.009\n",
       "Revolving.CREDIT.Balance       -4.283e-06   2.93e-06     -1.462      0.144        -1e-05  1.46e-06\n",
       "Inquiries.in.the.Last.6.Months     0.3283      0.040      8.293      0.000         0.251     0.406\n",
       "FICO                              -0.0886      0.001    -60.542      0.000        -0.091    -0.086\n",
       "MORTGAGE                          -0.1995      0.105     -1.906      0.057        -0.405     0.006\n",
       "OTHER                             -0.0497      1.194     -0.042      0.967        -2.391     2.291\n",
       "OWN                                0.0526      0.184      0.285      0.775        -0.309     0.414\n",
       "==============================================================================\n",
       "Omnibus:                      164.260   Durbin-Watson:                   2.007\n",
       "Prob(Omnibus):                  0.000   Jarque-Bera (JB):              324.458\n",
       "Skew:                           0.575   Prob(JB):                     3.51e-71\n",
       "Kurtosis:                       4.684   Cond. No.                     6.72e+05\n",
       "==============================================================================\n",
       "\n",
       "Warnings:\n",
       "[1] Standard Errors assume that the covariance matrix of the errors is correctly specified.\n",
       "[2] The condition number is large, 6.72e+05. This might indicate that there are\n",
       "strong multicollinearity or other numerical problems.\n",
       "\"\"\""
      ]
     },
     "execution_count": 25,
     "metadata": {},
     "output_type": "execute_result"
    }
   ],
   "source": [
    "# use the statsmodels OLS class to fit the multivariate linear regression model and calculate the F-statistic\n",
    "# don't forget to add a constant term to the data\n",
    "linreg_multivariate_sm = sm.OLS(Y,sm.add_constant(X)).fit()\n",
    "linreg_multivariate_sm.summary()"
   ]
  },
  {
   "cell_type": "markdown",
   "metadata": {},
   "source": [
    "Obviously the model has improved by including additional input variables. However, we are almost certain that some of these are more useful for prediction than the others. The scikit-learn package includes several procedures for feature selection. Let us use the SelectKBest function to uncover $K$ individually most significant features. The documentation can be found at: http://scikit-learn.org/stable/modules/generated/sklearn.feature_selection.SelectKBest.html"
   ]
  },
  {
   "cell_type": "code",
   "execution_count": 31,
   "metadata": {
    "collapsed": false
   },
   "outputs": [
    {
     "name": "stdout",
     "output_type": "stream",
     "text": [
      "Index([u'Amount.Requested', u'Loan.Length', u'Debt.To.Income.Ratio',\n",
      "       u'Monthly.Income', u'Open.CREDIT.Lines', u'Revolving.CREDIT.Balance',\n",
      "       u'Inquiries.in.the.Last.6.Months', u'FICO', u'MORTGAGE', u'OTHER'],\n",
      "      dtype='object')\n",
      "0.75509293781\n",
      "0.767520807254\n"
     ]
    }
   ],
   "source": [
    "from sklearn.feature_selection import SelectKBest\n",
    "from sklearn.feature_selection import f_regression\n",
    "\n",
    "#use the SelectKBest() class to select a couple of most important regression variables and print the selected column names\n",
    "X_selection = SelectKBest(f_regression,k=10).fit(X,Y)\n",
    "\n",
    "#use the .get_support() method to access the mask (boolean indices) of the selected features\n",
    "print X.columns[X_selection.get_support()]\n",
    "\n",
    "#fit the reduced model and calculate the R^2 score\n",
    "reduced_linreg_sklearn = linear_model.LinearRegression().fit(X[X.columns[X_selection.get_support()]],Y)\n",
    "print reduced_linreg_sklearn.score(X[X.columns[X_selection.get_support()]],Y)\n",
    "print reduced_linreg_sklearn.score(test[X.columns[X_selection.get_support()]],test[output_variable])"
   ]
  },
  {
   "cell_type": "markdown",
   "metadata": {},
   "source": [
    "### Exercise:\n",
    "\n",
    "* Use multivariate linear regression to explore possible interactions between variables of the dataset, such as products or quotients.\n",
    "\n",
    "* Include basis expansions of the input variables in the regression - maybe some of the relationships are not linear?\n",
    "\n"
   ]
  },
  {
   "cell_type": "markdown",
   "metadata": {
    "collapsed": false
   },
   "source": [
    "## Regularized regression models\n",
    "\n",
    "The regularized least squares methods are used to either avoid ill-posed least squares problems when the number of variables is greater than the number of observations, or to avoid overfitting and aid the generalization power of the model. All of the regularization techniques used below include minimizing a linear combination of the RSS and the estimated coefficient magnitudes:\n",
    "* **Ridge regression** uses L2 norm of the coefficient magnitudes\n",
    "* **Lasso regression** uses L1 norm of the coefficient magnitudes\n",
    "* **Elasticnet** uses a combination of the L1 and L2 norms\n",
    "\n",
    "Since all of these methods include coefficient magnitudes in the penalty function, the parameters and consequently the results will be considerably dependent on the magnitudes of the input variables. This is why it is always recommended to adjust the input variable magnitues by standardizing or normalizing the input.\n",
    "\n",
    "\n",
    "### Ridge regression\n",
    "By adding the L2 norm of the coefficient magnitudes to the minimization function, ridge regression avoids overfitting while keeping all of the predictor variables included. The penalty function reads:\n",
    "\n",
    "$$\\underset{\\beta}{min\\,} {{|| \\beta X  - y||_2^2} + \\alpha {||\\beta||_2^2}}.$$\n",
    "\n",
    "Due to the added term, with increased value of $\\alpha$ the coefficient magnitudes will decrease. Basicall, the model will rely less on a small set of large predictors (due to large corresponding coefficients) and will tend to distribute these weights accors all variables - thus reducing the possibility of overfitting due to sampling flaws.\n",
    "\n",
    "Ridge regression can be estimated using the sklearn.linear_model.Ridge class the .fit() method. The documentation can be found at: http://scikit-learn.org/stable/modules/generated/sklearn.linear_model.Ridge.html\n",
    "\n",
    "\n",
    "### Lasso regression\n",
    "Instead of the L2 norm of the coefficient magnitudes, lasso regression uses the L1 prior as a regularizer. The objective function to minimize is:\n",
    "\n",
    "$$\\underset{\\beta}{min\\,} { \\frac{1}{2N} ||\\beta X - y||_2 ^ 2 + \\alpha ||\\beta||_1}.$$\n",
    "\n",
    "Due to the L1 norm, instead of evenly distributing the coefficients among all the predictor variables, Lasso results in sparse estimates of the regression coefficients - the model tends to set most coefficients to zero, and the other will be assigned high magnitues. Due to this, and inheret variable selection is performed. This is especially useful in cases when the number of variables is larger than the number of observations and the ordinary least squares problem is ill-posed.\n",
    "\n",
    "Lasso regression is given in the sklearn.linear_model.Lasso class and its parameters can be estimated by calling the .fit() method. The documentation can be found at: http://scikit-learn.org/stable/modules/generated/sklearn.linear_model.Lasso.html  \n",
    "\n",
    "\n",
    "### ElasticNet\n",
    "The ElasticNet regression model is trained with both L1 and L2 as regularizers. This combination allows for learning a sparse model where few of the weights are non-zero like Lasso, while still maintaining the regularization properties of Ridge.\n",
    "\n",
    "Elastic-net is useful when there are multiple correlated features - Lasso is likely to pick one of these at random, while elastic-net is likely to pick both. The objective function to minimize is in this case:\n",
    "\n",
    "$$\\underset{\\beta}{min\\,} { \\frac{1}{2N} ||\\beta X - y||_2 ^ 2 + \\alpha \\rho ||\\beta||_1 +\n",
    "\\frac{\\alpha(1-\\rho)}{2} ||\\beta||_2 ^ 2}.$$\n",
    "\n",
    "ElasticNet regression is given in the sklearn.linear_model.ElasticNet class and its parameters can be estimated by calling the .fit() method. The documentation can be found at: http://scikit-learn.org/stable/modules/generated/sklearn.linear_model.ElasticNet.html\n",
    "\n",
    "\n",
    "<br>\n",
    "\n",
    "\n",
    "Let us import the necessary modules:"
   ]
  },
  {
   "cell_type": "code",
   "execution_count": 35,
   "metadata": {
    "collapsed": true
   },
   "outputs": [],
   "source": [
    "from sklearn.linear_model import Ridge\n",
    "from sklearn.linear_model import Lasso\n",
    "from sklearn.linear_model import ElasticNet"
   ]
  },
  {
   "cell_type": "markdown",
   "metadata": {},
   "source": [
    "Let us emulate a situation where the number of variables is very high compared to the number of observations in the training set. We will include all of the categorical variables previously ignored."
   ]
  },
  {
   "cell_type": "code",
   "execution_count": 32,
   "metadata": {
    "collapsed": false
   },
   "outputs": [],
   "source": [
    "#first include all the previously ignored predictor variables - the dummy variables for State and Loan.Purpose\n",
    "\n",
    "loansData.loc[:,'State'] = loansData.loc[:,'State'].astype('category')\n",
    "dummies = pd.get_dummies(loansData['State'])\n",
    "loansData = pd.concat([loansData, dummies], axis=1)\n",
    "\n",
    "loansData.loc[:,'Loan.Purpose'] = loansData.loc[:,'Loan.Purpose'].astype('category')\n",
    "dummies = pd.get_dummies(loansData['Loan.Purpose'])\n",
    "loansData = pd.concat([loansData, dummies], axis=1)\n"
   ]
  },
  {
   "cell_type": "code",
   "execution_count": 33,
   "metadata": {
    "collapsed": false
   },
   "outputs": [
    {
     "name": "stdout",
     "output_type": "stream",
     "text": [
      "(49, 79)\n",
      "(2449, 79)\n"
     ]
    }
   ],
   "source": [
    "#let us split the data into training and test sets, in such a way that N < p\n",
    "\n",
    "train, test = train_test_split(loansData, test_size = 0.98,random_state=1950)\n",
    "input_variables = train.select_dtypes(include=['float64','int64']).drop('Interest.Rate', axis=1).columns\n",
    "\n",
    "X = train[input_variables]\n",
    "Y = train['Interest.Rate']\n",
    "\n",
    "print train.shape\n",
    "print test.shape"
   ]
  },
  {
   "cell_type": "markdown",
   "metadata": {},
   "source": [
    "### Ridge trace:\n",
    "Use the sklearn.linear_model regularized regressions to explore the relationship between the regularization parameter $\\alpha$ and the estimated coefficient values for ridge regression."
   ]
  },
  {
   "cell_type": "code",
   "execution_count": 36,
   "metadata": {
    "collapsed": false
   },
   "outputs": [
    {
     "data": {
      "image/png": "[encoded data removed]",
      "text/plain": [
       "<matplotlib.figure.Figure at 0x112400450>"
      ]
     },
     "metadata": {},
     "output_type": "display_data"
    },
    {
     "data": {
      "image/png": "[encoded data removed]",
      "text/plain": [
       "<matplotlib.figure.Figure at 0x112400850>"
      ]
     },
     "metadata": {},
     "output_type": "display_data"
    }
   ],
   "source": [
    "alphas = np.linspace(0.001, 5, num=1000)\n",
    "ridge_regr = Ridge(alpha = alphas[0],normalize=True)\n",
    "\n",
    "coefficients = []\n",
    "train_performance = []\n",
    "test_performance = []\n",
    "for a in alphas:\n",
    "    ridge_regr.set_params(alpha=a)\n",
    "    ridge_regr.fit(X,Y)\n",
    "    coefficients.append(ridge_regr.coef_)\n",
    "    train_performance.append(ridge_regr.score(X, Y))\n",
    "    test_performance.append(ridge_regr.score(test[input_variables], test['Interest.Rate']))\n",
    "\n",
    "\n",
    "\n",
    "figure(num=None, figsize=(15, 6), dpi=200)\n",
    "h = plt.plot(alphas, coefficients)\n",
    "plt.xlabel('alpha')\n",
    "plt.ylabel('coefficients')\n",
    "plt.grid(True)\n",
    "plt.show()\n",
    "\n",
    "figure(num=None, figsize=(10, 6), dpi=200)\n",
    "plt.subplot(2, 1, 1)\n",
    "plt.semilogx(alphas, train_performance, label='Train')\n",
    "plt.semilogx(alphas, test_performance, label='Test')\n",
    "plt.legend(loc='lower left')\n",
    "plt.ylim([0, 1.2])\n",
    "plt.xlabel('Regularization parameter')\n",
    "plt.ylabel('Performance')\n",
    "plt.show()"
   ]
  },
  {
   "cell_type": "markdown",
   "metadata": {
    "collapsed": false
   },
   "source": [
    "Now repeat this procedure and inspect the relationship between the parameter $\\alpha$ values and the Lasso regression coefficients. Also explore the train and test set model performance."
   ]
  },
  {
   "cell_type": "code",
   "execution_count": 39,
   "metadata": {
    "collapsed": false
   },
   "outputs": [
    {
     "data": {
      "image/png": "[encoded data removed]",
      "text/plain": [
       "<matplotlib.figure.Figure at 0x117eaddd0>"
      ]
     },
     "metadata": {},
     "output_type": "display_data"
    },
    {
     "data": {
      "image/png": "[encoded data removed]",
      "text/plain": [
       "<matplotlib.figure.Figure at 0x11b6a42d0>"
      ]
     },
     "metadata": {},
     "output_type": "display_data"
    }
   ],
   "source": [
    "#copy-paste the code in the previous cell and use the Lasso() class to fit a lasso regularized regression model\n",
    "alphas = np.linspace(0.001, 0.5, num=1000)\n",
    "ridge_regr = Lasso(alpha = alphas[0],normalize=True)\n",
    "\n",
    "coefficients = []\n",
    "train_performance = []\n",
    "test_performance = []\n",
    "for a in alphas:\n",
    "    ridge_regr.set_params(alpha=a)\n",
    "    ridge_regr.fit(X,Y)\n",
    "    coefficients.append(ridge_regr.coef_)\n",
    "    train_performance.append(ridge_regr.score(X, Y))\n",
    "    test_performance.append(ridge_regr.score(test[input_variables], test['Interest.Rate']))\n",
    "\n",
    "\n",
    "\n",
    "figure(num=None, figsize=(15, 6), dpi=200)\n",
    "h = plt.plot(alphas, coefficients)\n",
    "plt.xlabel('alpha')\n",
    "plt.ylabel('coefficients')\n",
    "plt.grid(True)\n",
    "plt.show()\n",
    "\n",
    "figure(num=None, figsize=(10, 6), dpi=200)\n",
    "plt.subplot(2, 1, 1)\n",
    "plt.semilogx(alphas, train_performance, label='Train')\n",
    "plt.semilogx(alphas, test_performance, label='Test')\n",
    "plt.legend(loc='lower left')\n",
    "plt.ylim([0, 1.2])\n",
    "plt.xlabel('Regularization parameter')\n",
    "plt.ylabel('Performance')\n",
    "plt.show()"
   ]
  },
  {
   "cell_type": "markdown",
   "metadata": {},
   "source": [
    "Do the same for the values of the $\\alpha$ and $\\rho$ parameters and the ElasticNet regression:"
   ]
  },
  {
   "cell_type": "code",
   "execution_count": 40,
   "metadata": {
    "collapsed": false
   },
   "outputs": [
    {
     "data": {
      "image/png": "[encoded data removed]",
      "text/plain": [
       "<matplotlib.figure.Figure at 0x1196ab8d0>"
      ]
     },
     "metadata": {},
     "output_type": "display_data"
    },
    {
     "data": {
      "image/png": "[encoded data removed]",
      "text/plain": [
       "<matplotlib.figure.Figure at 0x11a629e50>"
      ]
     },
     "metadata": {},
     "output_type": "display_data"
    }
   ],
   "source": [
    "#copy-paste the code in the previous cell and use the ElasticNet() class to fit a lasso regularized regression model\n",
    "#set the value of the l1_ratio to 0.9\n",
    "alphas = np.linspace(0.001, 0.5, num=1000)\n",
    "ridge_regr = ElasticNet(l1_ratio = 0.9,alpha = alphas[0],normalize=True)\n",
    "\n",
    "coefficients = []\n",
    "train_performance = []\n",
    "test_performance = []\n",
    "for a in alphas:\n",
    "    ridge_regr.set_params(alpha=a)\n",
    "    ridge_regr.fit(X,Y)\n",
    "    coefficients.append(ridge_regr.coef_)\n",
    "    train_performance.append(ridge_regr.score(X, Y))\n",
    "    test_performance.append(ridge_regr.score(test[input_variables], test['Interest.Rate']))\n",
    "\n",
    "\n",
    "\n",
    "figure(num=None, figsize=(15, 6), dpi=200)\n",
    "h = plt.plot(alphas, coefficients)\n",
    "plt.xlabel('alpha')\n",
    "plt.ylabel('coefficients')\n",
    "plt.grid(True)\n",
    "plt.show()\n",
    "\n",
    "figure(num=None, figsize=(10, 6), dpi=200)\n",
    "plt.subplot(2, 1, 1)\n",
    "plt.semilogx(alphas, train_performance, label='Train')\n",
    "plt.semilogx(alphas, test_performance, label='Test')\n",
    "plt.legend(loc='lower left')\n",
    "plt.ylim([0, 1.2])\n",
    "plt.xlabel('Regularization parameter')\n",
    "plt.ylabel('Performance')\n",
    "plt.show()"
   ]
  },
  {
   "cell_type": "markdown",
   "metadata": {},
   "source": [
    "### Choosing $\\alpha$\n",
    "\n",
    "The parameter $\\alpha$ is usually chosen using K-fold cross validation: we pick the $\\alpha$ with the least overall cross validation error (CVE). This is implemented in scikit-learn within the RidgeCV, LassoCV and ElasticNetCV classes.\n",
    "\n",
    "http://scikit-learn.org/stable/modules/generated/sklearn.linear_model.RidgeCV\n",
    "\n",
    "http://scikit-learn.org/stable/modules/generated/sklearn.linear_model.LassoCV\n",
    "\n",
    "http://scikit-learn.org/stable/modules/generated/sklearn.linear_model.ElasticNetCV"
   ]
  },
  {
   "cell_type": "code",
   "execution_count": 42,
   "metadata": {
    "collapsed": true
   },
   "outputs": [],
   "source": [
    "from sklearn.linear_model import RidgeCV\n",
    "from sklearn.linear_model import LassoCV\n",
    "from sklearn.linear_model import ElasticNetCV"
   ]
  },
  {
   "cell_type": "markdown",
   "metadata": {},
   "source": [
    "### Exercise:\n",
    "\n",
    "* **Fit a multivariate linear regression model (non-regularized) and inspect the model accuracy**\n",
    "    What is the $R^2$ score on the train data? What is the score on the test data? How do you comment this?\n",
    "\n",
    "\n",
    "* **Fit an L2-regularized regression model (Ridge regression) to the dataset and inspect the model accuracy**\n",
    "    Find a favorable value of the parameter $\\alpha$ (normalize the input variables). What are the $R^2$ scores for the train and test data?\n",
    "    \n",
    "    \n",
    "* **Fit an L1-regularized regression model (Lasso regression) to the dataset and inspect the model accuracy**\n",
    "    Which variables have non-zero coefficients? Do they match the selected coefficients in the earlier example?\n",
    "    \n",
    "    \n",
    "* **Fit an ElasticNet regression model to the dataset and inspect the model accuracy**\n",
    "    What is the accuracy of the model on the train and test datasets?\n"
   ]
  },
  {
   "cell_type": "code",
   "execution_count": 50,
   "metadata": {
    "collapsed": false
   },
   "outputs": [
    {
     "name": "stdout",
     "output_type": "stream",
     "text": [
      "0.960748789406\n",
      "0.459138077393\n"
     ]
    }
   ],
   "source": [
    "linreg = linear_model.LinearRegression().fit(X,Y)\n",
    "\n",
    "print linreg.score(X,Y)\n",
    "print linreg.score(test[input_variables],test['Interest.Rate'])"
   ]
  },
  {
   "cell_type": "code",
   "execution_count": 51,
   "metadata": {
    "collapsed": false
   },
   "outputs": [
    {
     "name": "stdout",
     "output_type": "stream",
     "text": [
      "0.943111467281\n",
      "0.495363737113\n"
     ]
    }
   ],
   "source": [
    "alphas = np.linspace(0.01,5,100)\n",
    "ridgecv_model = RidgeCV(alphas = alphas,normalize=True)\n",
    "ridgecv_model.fit(X,Y)\n",
    "\n",
    "print ridgecv_model.score(X,Y)\n",
    "print ridgecv_model.score(test[input_variables],test['Interest.Rate'])"
   ]
  },
  {
   "cell_type": "code",
   "execution_count": 52,
   "metadata": {
    "collapsed": false
   },
   "outputs": [
    {
     "name": "stdout",
     "output_type": "stream",
     "text": [
      "0.787061838661\n",
      "0.658134685505\n"
     ]
    }
   ],
   "source": [
    "alphas = np.linspace(0.01,5,1000)\n",
    "lassocv_model = LassoCV(alphas = alphas,normalize=True)\n",
    "lassocv_model.fit(X,Y)\n",
    "\n",
    "print lassocv_model.score(X,Y)\n",
    "print lassocv_model.score(test[input_variables],test['Interest.Rate'])"
   ]
  },
  {
   "cell_type": "code",
   "execution_count": 53,
   "metadata": {
    "collapsed": false
   },
   "outputs": [
    {
     "name": "stdout",
     "output_type": "stream",
     "text": [
      "0.786915522123\n",
      "0.65808747474\n"
     ]
    }
   ],
   "source": [
    "alphas = np.linspace(0.001,1,1000)\n",
    "l1_ratios = np.linspace(0.1,1,10)\n",
    "elasticnetcv_model = ElasticNetCV(l1_ratio = l1_ratios,alphas = alphas,normalize=True)\n",
    "elasticnetcv_model.fit(X,Y)\n",
    "\n",
    "print elasticnetcv_model.score(X,Y)\n",
    "print elasticnetcv_model.score(test[input_variables],test['Interest.Rate'])"
   ]
  },
  {
   "cell_type": "markdown",
   "metadata": {
    "collapsed": false
   },
   "source": [
    "### Variable selection using Lasso\n",
    "\n",
    "Let us turn back to the Lasso L1 regularized regression model. Due to the inherent sparsity of the coefficient estimates, this is an especially convenient method for variable selection. The idea is simple: find an optimal value of $\\alpha$ using cross-validation, and then explore the estimated regression coefficients - those different than 0 correspond to valuable input variables.\n",
    "\n",
    "\n",
    "Let us detect which coefficients our Lasso model chose as significant."
   ]
  },
  {
   "cell_type": "code",
   "execution_count": 54,
   "metadata": {
    "collapsed": false
   },
   "outputs": [
    {
     "name": "stdout",
     "output_type": "stream",
     "text": [
      "Index([u'Amount.Funded.By.Investors', u'Loan.Length', u'FICO', u'CO', u'IN',\n",
      "       u'MD', u'NC', u'debt_consolidation', u'other'],\n",
      "      dtype='object')\n"
     ]
    },
    {
     "data": {
      "text/plain": [
       "[('Amount.Funded.By.Investors', 3.5989462265457206e-05),\n",
       " ('Loan.Length', 0.14987139315818446),\n",
       " ('FICO', -0.066956276287108416),\n",
       " ('CO', 0.11178335527400535),\n",
       " ('IN', -0.81292203756724812),\n",
       " ('MD', 1.4594454311593339),\n",
       " ('NC', 0.78642964466933563),\n",
       " ('debt_consolidation', -0.38737004039821593),\n",
       " ('other', 0.77247650264504875)]"
      ]
     },
     "execution_count": 54,
     "metadata": {},
     "output_type": "execute_result"
    }
   ],
   "source": [
    "#use the fitted lasso model and the .coef_ attribute to access the coefficients\n",
    "#print out those column namse whose corresponding coefficients are != 0\n",
    "\n",
    "print X.columns[lassocv_model.coef_!= 0]\n",
    "zip(X.columns[lassocv_model.coef_!= 0],lassocv_model.coef_[lassocv_model.coef_!= 0])"
   ]
  },
  {
   "cell_type": "markdown",
   "metadata": {},
   "source": [
    "How do these coefficients compare to our identified significant coefficients above (when using SelectKBest)? Note that these are completely different models, due to added variables and a significantly reduced training set - nevertheless, some variables seem to be important in both cases."
   ]
  },
  {
   "cell_type": "markdown",
   "metadata": {
    "collapsed": true
   },
   "source": [
    "\n",
    "\n",
    "\n",
    "# Logistic regression"
   ]
  },
  {
   "cell_type": "markdown",
   "metadata": {},
   "source": [
    "Rather than predicting the interest rate given a set of input parameter values, sometimes it is useful to consider binary outcomes: \"Is it possible to get a loan with an interest rate of 12%, given one's parameter values?\"\n",
    "\n",
    "If we characterize all loans with the interest rate above the threshold of 12% as unaffordable and all others as affordable - the question we face read: \"What is the probability of getting an affordable loan, given one's parameters?\"\n",
    "\n",
    "### Classification via logistic regression\n",
    "Logistic regression is a linear model for classification, also known in the literature as logit regression, maximum-entropy classification (MaxEnt) or the log-linear classifier. In this model, the probabilities describing the possible outcomes of a single trial are modeled using a logistic function.\n",
    "\n",
    "The implementation of logistic regression in scikit-learn includes optional L2 or L1 regularization. As in previous examples, regularization helps avoid overfitting and deals with a large number of variables with insufficient observations. As an optimization problem, binary class L2 penalized logistic regression minimizes the following cost function:\n",
    "$$\\underset{w, c}{min\\,} \\frac{1}{2}w^T w + C \\sum_{i=1}^n \\log(\\exp(- y_i (X_i^T w + c)) + 1) .$$\n",
    "Similarly, L1 regularized logistic regression solves the following optimization problem\n",
    "$$\\underset{w, c}{min\\,} \\|w\\|_1 + C \\sum_{i=1}^n \\log(\\exp(- y_i (X_i^T w + c)) + 1) .$$\n",
    "\n",
    "The parameter $C$ can be set to very high values to simply annul the regularization. More can be found in the documentation: http://scikit-learn.org/stable/modules/generated/sklearn.linear_model.LogisticRegression.html\n",
    "\n",
    "A very useful notebook covering the logistic regression model in statsmodels is given here: http://blog.yhat.com/posts/logistic-regression-and-python.html\n",
    "\n",
    "Another notebook, using scikit-learn is available here: http://www.dataschool.io/logistic-regression-in-python-using-scikit-learn/"
   ]
  },
  {
   "cell_type": "markdown",
   "metadata": {
    "collapsed": true
   },
   "source": [
    "Literature\n",
    "-----------\n",
    "\n",
    "<a name=\"scikit-linear\">[1]</a> scikit-learn documentation - 1.1. Generalized Linear Models, [link](http://scikit-learn.org/stable/modules/linear_model.html)\n",
    "\n",
    "<a name=\"statsmodels\">[2]</a> statsmodels documentation, [link](https://pypi.python.org/pypi/statsmodels)\n",
    "\n",
    "<a name=\"islr\">[3]</a> James, G., Witten, D., Hastie, T., and Tibshirani, R. (2014), An Introduction to Statistical Learning: With Applications in R. Springer Publishing Company, Inc., [link](http://www-bcf.usc.edu/~gareth/ISL/)\n",
    "\n",
    "<a name=\"esl\">[4]</a> Hastie, T.; Tibshirani, R. & Friedman, J. (2001), The Elements of Statistical Learning, Springer New York Inc., New York, NY, USA. [link](http://statweb.stanford.edu/~tibs/ElemStatLearn/)\n",
    "\n",
    "<a name=\"scikit-linreg\">[5]</a> ISLR - Python, [link](https://github.com/JWarmenhoven/ISLR-python)"
   ]
  }
 ],
 "metadata": {
  "anaconda-cloud": {},
  "kernelspec": {
   "display_name": "Python [python2]",
   "language": "python",
   "name": "Python [python2]"
  },
  "language_info": {
   "codemirror_mode": {
    "name": "ipython",
    "version": 2
   },
   "file_extension": ".py",
   "mimetype": "text/x-python",
   "name": "python",
   "nbconvert_exporter": "python",
   "pygments_lexer": "ipython2",
   "version": "2.7.12"
  }
 },
 "nbformat": 4,
 "nbformat_minor": 0
}
